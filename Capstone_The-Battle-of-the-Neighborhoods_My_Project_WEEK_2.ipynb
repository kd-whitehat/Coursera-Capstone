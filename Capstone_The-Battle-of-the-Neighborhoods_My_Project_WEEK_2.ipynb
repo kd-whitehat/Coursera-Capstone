{
 "cells": [
  {
   "cell_type": "markdown",
   "metadata": {},
   "source": [
    "# Capstone Project - The Battle of the Neighborhoods\n",
    "---"
   ]
  },
  {
   "cell_type": "markdown",
   "metadata": {},
   "source": [
    "## Introduction: Business Problem"
   ]
  },
  {
   "cell_type": "markdown",
   "metadata": {},
   "source": [
    "In this project I will try to find an optimal location for opening a restaurant in New Delhi.\n",
    "\n",
    "In here I will try to detect **locations that are not already crowded with restaurants**. In order to give maximum benefit to the stakeholder opening a restaurant It would be preferable to have locations **as close to city center as possible**.\n",
    "\n",
    "Data science will be used to find a few most promising neighborhoods in the New Delhi area."
   ]
  },
  {
   "cell_type": "markdown",
   "metadata": {},
   "source": [
    "## Data"
   ]
  },
  {
   "cell_type": "markdown",
   "metadata": {},
   "source": [
    "Based on definition of our problem, factors that will influence our decission are:\n",
    "* number of existing restaurants in the neighborhood (any type of restaurant)"
   ]
  },
  {
   "cell_type": "markdown",
   "metadata": {},
   "source": [
    "Following data sources will be needed to extract/generate the required information:\n",
    "* Centers of candidate areas will be generated using web scraping this website -**https://www.latlong.net/category/districts-102-16.html**. After Web surfing I was able to land on this website where the Data for districts of New Delhi is available but unfortunately it has to be scraped and converted into ready to use dataframe\n",
    "* Number of restaurants and their type and location in every neighborhood will be obtained using **Foursquare API**"
   ]
  },
  {
   "cell_type": "code",
   "execution_count": 207,
   "metadata": {},
   "outputs": [],
   "source": [
    "from bs4 import BeautifulSoup\n",
    "import pandas as pd\n",
    "import requests\n",
    "import numpy as np"
   ]
  },
  {
   "cell_type": "code",
   "execution_count": 208,
   "metadata": {},
   "outputs": [],
   "source": [
    "source=requests.get('https://www.latlong.net/category/districts-102-16.html').text\n",
    "soup=BeautifulSoup(source,'lxml')\n",
    "table = soup.find('table')\n",
    "\n",
    "# rows=table.find_all('tr')"
   ]
  },
  {
   "cell_type": "code",
   "execution_count": 209,
   "metadata": {},
   "outputs": [],
   "source": [
    "td=table.find_all('td')\n",
    "district =[]\n",
    "latitude =[]\n",
    "longitude =[]\n",
    "count=0\n",
    "for t in td:\n",
    "    try:\n",
    "        district.append(t.a.text)\n",
    "        count=0\n",
    "#         print(t.a.text)\n",
    "        \n",
    "    except:\n",
    "        if(count==0):\n",
    "            latitude.append(t.text)\n",
    "            count=1\n",
    "        elif(count==1):\n",
    "            longitude.append(t.text)"
   ]
  },
  {
   "cell_type": "code",
   "execution_count": 210,
   "metadata": {},
   "outputs": [],
   "source": [
    "df = pd.DataFrame(list(zip(district, latitude, longitude)),columns =['District', 'Latitude', 'Longitude'])"
   ]
  },
  {
   "cell_type": "markdown",
   "metadata": {},
   "source": [
    "### DATA Cleaning\n",
    "* Data frame has been created but the data consists of many non required districts of India which are not in the current focus of this project\n",
    "* Hence on dropping the non essential district we get ready to use data"
   ]
  },
  {
   "cell_type": "code",
   "execution_count": 211,
   "metadata": {},
   "outputs": [
    {
     "data": {
      "text/html": [
       "<div>\n",
       "<style scoped>\n",
       "    .dataframe tbody tr th:only-of-type {\n",
       "        vertical-align: middle;\n",
       "    }\n",
       "\n",
       "    .dataframe tbody tr th {\n",
       "        vertical-align: top;\n",
       "    }\n",
       "\n",
       "    .dataframe thead th {\n",
       "        text-align: right;\n",
       "    }\n",
       "</style>\n",
       "<table border=\"1\" class=\"dataframe\">\n",
       "  <thead>\n",
       "    <tr style=\"text-align: right;\">\n",
       "      <th></th>\n",
       "      <th>District</th>\n",
       "      <th>Latitude</th>\n",
       "      <th>Longitude</th>\n",
       "    </tr>\n",
       "  </thead>\n",
       "  <tbody>\n",
       "    <tr>\n",
       "      <th>0</th>\n",
       "      <td>Green Park, Delhi, New Delhi, India</td>\n",
       "      <td>28.549999</td>\n",
       "      <td>77.199997</td>\n",
       "    </tr>\n",
       "    <tr>\n",
       "      <th>1</th>\n",
       "      <td>Rajouri Garden, New Delhi, Delhi, India</td>\n",
       "      <td>28.641529</td>\n",
       "      <td>77.120918</td>\n",
       "    </tr>\n",
       "    <tr>\n",
       "      <th>2</th>\n",
       "      <td>Bindapur, New Delhi, Delhi, India</td>\n",
       "      <td>28.610722</td>\n",
       "      <td>77.065971</td>\n",
       "    </tr>\n",
       "    <tr>\n",
       "      <th>3</th>\n",
       "      <td>Karkardooma, Anand Vihar, Delhi, India</td>\n",
       "      <td>28.652946</td>\n",
       "      <td>77.302284</td>\n",
       "    </tr>\n",
       "    <tr>\n",
       "      <th>4</th>\n",
       "      <td>Dilshad Garden, New Delhi, Delhi, India</td>\n",
       "      <td>28.683903</td>\n",
       "      <td>77.315094</td>\n",
       "    </tr>\n",
       "    <tr>\n",
       "      <th>5</th>\n",
       "      <td>Karol Bagh, New Delhi, Delhi, India</td>\n",
       "      <td>28.661369</td>\n",
       "      <td>77.194405</td>\n",
       "    </tr>\n",
       "    <tr>\n",
       "      <th>6</th>\n",
       "      <td>Okhla I, Okhla Industrial Area, New Delhi, Del...</td>\n",
       "      <td>28.525377</td>\n",
       "      <td>77.280106</td>\n",
       "    </tr>\n",
       "    <tr>\n",
       "      <th>7</th>\n",
       "      <td>Lajpat Nagar, New Delhi, Delhi, India</td>\n",
       "      <td>28.569271</td>\n",
       "      <td>77.244110</td>\n",
       "    </tr>\n",
       "    <tr>\n",
       "      <th>8</th>\n",
       "      <td>Aerocity, Indira Gandhi International Airport,...</td>\n",
       "      <td>28.550421</td>\n",
       "      <td>77.121765</td>\n",
       "    </tr>\n",
       "    <tr>\n",
       "      <th>9</th>\n",
       "      <td>Dayalpur, Tukhmirpur, Delhi, New Delhi, India</td>\n",
       "      <td>28.718573</td>\n",
       "      <td>77.261353</td>\n",
       "    </tr>\n",
       "    <tr>\n",
       "      <th>10</th>\n",
       "      <td>Shakarpur, New Delhi, Delhi, India</td>\n",
       "      <td>28.627949</td>\n",
       "      <td>77.278618</td>\n",
       "    </tr>\n",
       "    <tr>\n",
       "      <th>11</th>\n",
       "      <td>Dakshinpuri, New Delhi, Delhi, India</td>\n",
       "      <td>28.520741</td>\n",
       "      <td>77.239075</td>\n",
       "    </tr>\n",
       "  </tbody>\n",
       "</table>\n",
       "</div>"
      ],
      "text/plain": [
       "                                             District   Latitude  Longitude\n",
       "0                 Green Park, Delhi, New Delhi, India  28.549999  77.199997\n",
       "1             Rajouri Garden, New Delhi, Delhi, India  28.641529  77.120918\n",
       "2                   Bindapur, New Delhi, Delhi, India  28.610722  77.065971\n",
       "3              Karkardooma, Anand Vihar, Delhi, India  28.652946  77.302284\n",
       "4             Dilshad Garden, New Delhi, Delhi, India  28.683903  77.315094\n",
       "5                 Karol Bagh, New Delhi, Delhi, India  28.661369  77.194405\n",
       "6   Okhla I, Okhla Industrial Area, New Delhi, Del...  28.525377  77.280106\n",
       "7               Lajpat Nagar, New Delhi, Delhi, India  28.569271  77.244110\n",
       "8   Aerocity, Indira Gandhi International Airport,...  28.550421  77.121765\n",
       "9       Dayalpur, Tukhmirpur, Delhi, New Delhi, India  28.718573  77.261353\n",
       "10                 Shakarpur, New Delhi, Delhi, India  28.627949  77.278618\n",
       "11               Dakshinpuri, New Delhi, Delhi, India  28.520741  77.239075"
      ]
     },
     "execution_count": 211,
     "metadata": {},
     "output_type": "execute_result"
    }
   ],
   "source": [
    "for dist in range(len(df['District'])):\n",
    "#     dist=dist-1\n",
    "#     print(\"District Index is :\",dist)\n",
    "    if(df['District'][dist].find('Delhi')==-1):\n",
    "        df.drop(index=dist, inplace=True)\n",
    "#         print('Delhi not found:',df['District'][dist].find('Delhi'))\n",
    "#         print()\n",
    "#         df.drop(df.index[dist])\n",
    "df.reset_index(inplace=True)\n",
    "df.drop(['index'],axis=1,inplace=True)\n",
    "df.head(20)"
   ]
  },
  {
   "cell_type": "markdown",
   "metadata": {},
   "source": [
    "## METHODOLOGY\n",
    "---"
   ]
  },
  {
   "cell_type": "markdown",
   "metadata": {},
   "source": [
    "* Data for the districts is set and now is the time getting the information for restaurants in the vicinity of this districts\n",
    "* For getting this information we will use the Foursquare API\n",
    "* We will get the numbers of the restaurant in an area and limit the radius for each area so as to get a figure to work on for each area"
   ]
  },
  {
   "cell_type": "markdown",
   "metadata": {},
   "source": [
    "##### EXTRACTION OF THE DATA USING FOUR SQUARE API"
   ]
  },
  {
   "cell_type": "code",
   "execution_count": 212,
   "metadata": {},
   "outputs": [],
   "source": [
    "CLIENT_ID=''\n",
    "CLIENT_SECRET=''\n",
    "VERSION=''\n",
    "LIMIT=100\n",
    "radius=700"
   ]
  },
  {
   "cell_type": "markdown",
   "metadata": {},
   "source": [
    "* Now lets define a function to extract the data using Foursquare API\n",
    "* This function will get the details for the venues which can be closely classified as an eating joint in a dsitrict in New Delhi"
   ]
  },
  {
   "cell_type": "code",
   "execution_count": 213,
   "metadata": {},
   "outputs": [],
   "source": [
    "def get_Venues(lat,lng):\n",
    "    \n",
    "    \n",
    "    \n",
    "    #url to fetch data from foursquare api\n",
    "    url = 'https://api.foursquare.com/v2/venues/explore?&client_id={}&client_secret={}&v={}&ll={},{}&radius={}&limit={}'.format(\n",
    "            CLIENT_ID, \n",
    "            CLIENT_SECRET, \n",
    "            VERSION, \n",
    "            lat, \n",
    "            lng, \n",
    "            radius, \n",
    "            LIMIT)\n",
    "    \n",
    "    # get all the data\n",
    "    results = requests.get(url).json()\n",
    "    venue_data=results[\"response\"]['groups'][0]['items']\n",
    "    venue_details=[]\n",
    "    for row in venue_data:\n",
    "        try:\n",
    "            venue_id=row['venue']['id']\n",
    "            venue_name=row['venue']['name']\n",
    "            venue_category=row['venue']['categories'][0]['name']\n",
    "            venue_details.append([venue_id,venue_name,venue_category])\n",
    "        except KeyError:\n",
    "            pass\n",
    "        \n",
    "    column_names=['ID','Name','Category']\n",
    "    df_v = pd.DataFrame(venue_details,columns=column_names)\n",
    "    return df_v"
   ]
  },
  {
   "cell_type": "markdown",
   "metadata": {},
   "source": [
    "#### Gliding forward\n",
    "* Lets extract the data for each district and sum it up as a number\n",
    "* Numbers for each district will be added into a new column in the existing dataframe\n",
    "* The lowest number of restaurant in a district will suggest it as a most suitable location for opening the restaurant"
   ]
  },
  {
   "cell_type": "code",
   "execution_count": 214,
   "metadata": {},
   "outputs": [
    {
     "data": {
      "text/html": [
       "<div>\n",
       "<style scoped>\n",
       "    .dataframe tbody tr th:only-of-type {\n",
       "        vertical-align: middle;\n",
       "    }\n",
       "\n",
       "    .dataframe tbody tr th {\n",
       "        vertical-align: top;\n",
       "    }\n",
       "\n",
       "    .dataframe thead th {\n",
       "        text-align: right;\n",
       "    }\n",
       "</style>\n",
       "<table border=\"1\" class=\"dataframe\">\n",
       "  <thead>\n",
       "    <tr style=\"text-align: right;\">\n",
       "      <th></th>\n",
       "      <th>District</th>\n",
       "      <th>Latitude</th>\n",
       "      <th>Longitude</th>\n",
       "      <th>Total</th>\n",
       "    </tr>\n",
       "  </thead>\n",
       "  <tbody>\n",
       "    <tr>\n",
       "      <th>0</th>\n",
       "      <td>Green Park, Delhi, New Delhi, India</td>\n",
       "      <td>28.549999</td>\n",
       "      <td>77.199997</td>\n",
       "      <td>35</td>\n",
       "    </tr>\n",
       "    <tr>\n",
       "      <th>1</th>\n",
       "      <td>Rajouri Garden, New Delhi, Delhi, India</td>\n",
       "      <td>28.641529</td>\n",
       "      <td>77.120918</td>\n",
       "      <td>8</td>\n",
       "    </tr>\n",
       "    <tr>\n",
       "      <th>2</th>\n",
       "      <td>Bindapur, New Delhi, Delhi, India</td>\n",
       "      <td>28.610722</td>\n",
       "      <td>77.065971</td>\n",
       "      <td>2</td>\n",
       "    </tr>\n",
       "    <tr>\n",
       "      <th>3</th>\n",
       "      <td>Karkardooma, Anand Vihar, Delhi, India</td>\n",
       "      <td>28.652946</td>\n",
       "      <td>77.302284</td>\n",
       "      <td>11</td>\n",
       "    </tr>\n",
       "    <tr>\n",
       "      <th>4</th>\n",
       "      <td>Dilshad Garden, New Delhi, Delhi, India</td>\n",
       "      <td>28.683903</td>\n",
       "      <td>77.315094</td>\n",
       "      <td>3</td>\n",
       "    </tr>\n",
       "  </tbody>\n",
       "</table>\n",
       "</div>"
      ],
      "text/plain": [
       "                                  District   Latitude  Longitude Total\n",
       "0      Green Park, Delhi, New Delhi, India  28.549999  77.199997    35\n",
       "1  Rajouri Garden, New Delhi, Delhi, India  28.641529  77.120918     8\n",
       "2        Bindapur, New Delhi, Delhi, India  28.610722  77.065971     2\n",
       "3   Karkardooma, Anand Vihar, Delhi, India  28.652946  77.302284    11\n",
       "4  Dilshad Garden, New Delhi, Delhi, India  28.683903  77.315094     3"
      ]
     },
     "execution_count": 214,
     "metadata": {},
     "output_type": "execute_result"
    }
   ],
   "source": [
    "df['Total']=\"\"\n",
    "c=0\n",
    "for dist in df.values.tolist():\n",
    "    district,lat,long,Tot=dist\n",
    "    df['Total'][c]=len(get_Venues(df['Latitude'][c],df['Longitude'][c])['Name'])\n",
    "    c=c+1\n",
    "df.head()"
   ]
  },
  {
   "cell_type": "markdown",
   "metadata": {},
   "source": [
    "#### Plot a Bar Chart to get and idea of no of Restaurant in a District\n",
    "* It is quite evident from the Bar Chart below that the most numbers of the restaurant are available in the Green Park, Delhi Area, Aerocity and in Lajpat Nagar Area\n"
   ]
  },
  {
   "cell_type": "code",
   "execution_count": 223,
   "metadata": {},
   "outputs": [
    {
     "data": {
      "image/png": "[encoded data removed]",
      "text/plain": [
       "<Figure size 900x500 with 1 Axes>"
      ]
     },
     "metadata": {
      "needs_background": "light"
     },
     "output_type": "display_data"
    }
   ],
   "source": [
    "\n",
    "import matplotlib.cm as cm\n",
    "import matplotlib.colors as colors\n",
    "import matplotlib.pyplot as plt\n",
    "\n",
    "\n",
    "\n",
    "plt.figure(figsize=(9,5), dpi = 100)\n",
    "# title\n",
    "plt.title('Total Restaurants and Places to dine in a District in New Delhi')\n",
    "#On x-axis\n",
    "plt.xlabel('District', fontsize = 15)\n",
    "#On y-axis\n",
    "plt.ylabel('No. Of Restaurant', fontsize=15)\n",
    "#giving a bar plot\n",
    "df['Total'].plot(kind='bar')\n",
    "plt.xticks(np.arange(12),df['District'])\n",
    "#legend\n",
    "plt.legend()\n",
    "#displays the plot\n",
    "plt.show()"
   ]
  },
  {
   "cell_type": "markdown",
   "metadata": {},
   "source": [
    "## RESULT\n",
    "---"
   ]
  },
  {
   "cell_type": "markdown",
   "metadata": {},
   "source": [
    "From the above analysis it is evident that the best location to open the restaurant in Delhi is Bindapur New Delhi Area followed by Dilshad Garden. "
   ]
  },
  {
   "cell_type": "markdown",
   "metadata": {},
   "source": [
    "## CONCLUSION\n",
    "---\n",
    "The above analysis can be vastly improved with an addition of -\n",
    " * population data of the districts\n",
    " * Crime Rate data of a district\n",
    " * Real Estate cost of an area\n",
    " * Per Capita Income of people living in an area etc.\n",
    " \n",
    "The type of restaurants can also be decided as per the ratings of the already existing restaurants in an area."
   ]
  },
  {
   "cell_type": "code",
   "execution_count": null,
   "metadata": {},
   "outputs": [],
   "source": []
  }
 ],
 "metadata": {
  "kernelspec": {
   "display_name": "Python 3",
   "language": "python",
   "name": "python3"
  },
  "language_info": {
   "codemirror_mode": {
    "name": "ipython",
    "version": 3
   },
   "file_extension": ".py",
   "mimetype": "text/x-python",
   "name": "python",
   "nbconvert_exporter": "python",
   "pygments_lexer": "ipython3",
   "version": "3.6.2"
  }
 },
 "nbformat": 4,
 "nbformat_minor": 4
}
